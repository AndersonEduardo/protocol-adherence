{
 "cells": [
  {
   "attachments": {},
   "cell_type": "markdown",
   "metadata": {},
   "source": [
    "# Protocol adherence by red flag detection"
   ]
  },
  {
   "attachments": {},
   "cell_type": "markdown",
   "metadata": {},
   "source": [
    "*Notebook with python code for experiment setup and running.*"
   ]
  },
  {
   "attachments": {},
   "cell_type": "markdown",
   "metadata": {},
   "source": [
    "***Setup***"
   ]
  },
  {
   "attachments": {},
   "cell_type": "markdown",
   "metadata": {},
   "source": [
    "Python packages:"
   ]
  },
  {
   "cell_type": "code",
   "execution_count": 2,
   "metadata": {},
   "outputs": [],
   "source": [
    "import time\n",
    "import random\n",
    "import spacy\n",
    "import nltk\n",
    "import Levenshtein\n",
    "\n",
    "import numpy as np\n",
    "import pandas as pd\n",
    "\n",
    "from nltk.stem import RSLPStemmer\n",
    "\n",
    "from sklearn.feature_extraction.text import TfidfVectorizer\n",
    "from sklearn.naive_bayes import MultinomialNB\n",
    "from sklearn.model_selection import GridSearchCV\n",
    "\n",
    "from imblearn.under_sampling import RandomUnderSampler\n",
    "from imblearn.pipeline import Pipeline\n",
    "\n",
    "from imblearn.over_sampling import SMOTE, ADASYN\n",
    "\n",
    "import torch\n",
    "\n",
    "from statisticalframework import *"
   ]
  },
  {
   "attachments": {},
   "cell_type": "markdown",
   "metadata": {},
   "source": [
    "NLTK stuff:"
   ]
  },
  {
   "cell_type": "markdown",
   "metadata": {},
   "source": [
    "Firstly, run it on a *terminal*:\n",
    "```\n",
    "python -m spacy download pt_core_news_lg\n",
    "```"
   ]
  },
  {
   "cell_type": "code",
   "execution_count": 3,
   "metadata": {},
   "outputs": [
    {
     "name": "stderr",
     "output_type": "stream",
     "text": [
      "[nltk_data] Downloading package punkt to /Users/drt67700/nltk_data...\n",
      "[nltk_data]   Package punkt is already up-to-date!\n",
      "[nltk_data] Downloading package rslp to /Users/drt67700/nltk_data...\n",
      "[nltk_data]   Package rslp is already up-to-date!\n"
     ]
    }
   ],
   "source": [
    "nltk.download('punkt')\n",
    "nltk.download( \"rslp\" )\n",
    "\n",
    "stopwords = nltk.corpus.stopwords.words(\"portuguese\")"
   ]
  },
  {
   "attachments": {},
   "cell_type": "markdown",
   "metadata": {},
   "source": [
    "**Instanciation of the analytical pipeline**"
   ]
  },
  {
   "cell_type": "code",
   "execution_count": 4,
   "metadata": {},
   "outputs": [
    {
     "name": "stderr",
     "output_type": "stream",
     "text": [
      "/Users/drt67700/anaconda3/lib/python3.11/site-packages/sklearn/metrics/_classification.py:1344: UndefinedMetricWarning: Precision is ill-defined and being set to 0.0 due to no predicted samples. Use `zero_division` parameter to control this behavior.\n",
      "  _warn_prf(average, modifier, msg_start, len(result))\n",
      "/Users/drt67700/anaconda3/lib/python3.11/site-packages/sklearn/metrics/_classification.py:1344: UndefinedMetricWarning: Precision is ill-defined and being set to 0.0 due to no predicted samples. Use `zero_division` parameter to control this behavior.\n",
      "  _warn_prf(average, modifier, msg_start, len(result))\n",
      "/Users/drt67700/anaconda3/lib/python3.11/site-packages/sklearn/metrics/_classification.py:1344: UndefinedMetricWarning: Precision is ill-defined and being set to 0.0 due to no predicted samples. Use `zero_division` parameter to control this behavior.\n",
      "  _warn_prf(average, modifier, msg_start, len(result))\n",
      "/Users/drt67700/anaconda3/lib/python3.11/site-packages/sklearn/metrics/_classification.py:1344: UndefinedMetricWarning: Precision is ill-defined and being set to 0.0 due to no predicted samples. Use `zero_division` parameter to control this behavior.\n",
      "  _warn_prf(average, modifier, msg_start, len(result))\n",
      "/Users/drt67700/anaconda3/lib/python3.11/site-packages/sklearn/metrics/_classification.py:1344: UndefinedMetricWarning: Precision is ill-defined and being set to 0.0 due to no predicted samples. Use `zero_division` parameter to control this behavior.\n",
      "  _warn_prf(average, modifier, msg_start, len(result))\n",
      "/Users/drt67700/anaconda3/lib/python3.11/site-packages/sklearn/metrics/_classification.py:1344: UndefinedMetricWarning: Precision is ill-defined and being set to 0.0 due to no predicted samples. Use `zero_division` parameter to control this behavior.\n",
      "  _warn_prf(average, modifier, msg_start, len(result))\n",
      "/Users/drt67700/anaconda3/lib/python3.11/site-packages/sklearn/metrics/_classification.py:1344: UndefinedMetricWarning: Precision is ill-defined and being set to 0.0 due to no predicted samples. Use `zero_division` parameter to control this behavior.\n",
      "  _warn_prf(average, modifier, msg_start, len(result))\n",
      "/Users/drt67700/anaconda3/lib/python3.11/site-packages/sklearn/metrics/_classification.py:1344: UndefinedMetricWarning: Precision is ill-defined and being set to 0.0 due to no predicted samples. Use `zero_division` parameter to control this behavior.\n",
      "  _warn_prf(average, modifier, msg_start, len(result))\n",
      "No sentence-transformers model found with name /Users/drt67700/.cache/torch/sentence_transformers/neuralmind_bert-large-portuguese-cased. Creating a new one with MEAN pooling.\n",
      "Some weights of the model checkpoint at /Users/drt67700/.cache/torch/sentence_transformers/neuralmind_bert-large-portuguese-cased were not used when initializing BertModel: ['cls.predictions.transform.dense.bias', 'cls.predictions.transform.LayerNorm.weight', 'cls.predictions.bias', 'cls.seq_relationship.bias', 'cls.predictions.transform.LayerNorm.bias', 'cls.predictions.transform.dense.weight', 'cls.predictions.decoder.weight', 'cls.seq_relationship.weight']\n",
      "- This IS expected if you are initializing BertModel from the checkpoint of a model trained on another task or with another architecture (e.g. initializing a BertForSequenceClassification model from a BertForPreTraining model).\n",
      "- This IS NOT expected if you are initializing BertModel from the checkpoint of a model that you expect to be exactly identical (initializing a BertForSequenceClassification model from a BertForSequenceClassification model).\n"
     ]
    }
   ],
   "source": [
    "statframe = StatisticalFramework(\n",
    "    parameters_filepath = './data/parametros_redflag_com_covid19.xlsx',\n",
    "    rule_parameter = 'REDFLAG'\n",
    ")"
   ]
  },
  {
   "attachments": {},
   "cell_type": "markdown",
   "metadata": {},
   "source": [
    "**Data**"
   ]
  },
  {
   "attachments": {},
   "cell_type": "markdown",
   "metadata": {},
   "source": [
    "Main dataset:"
   ]
  },
  {
   "cell_type": "code",
   "execution_count": 5,
   "metadata": {},
   "outputs": [],
   "source": [
    "# TODO: se possível, atualizar dados (obter maior volume e mais recentes)\n",
    "\n",
    "df = pd.read_csv('data/dataset_clean_20221104.csv')"
   ]
  },
  {
   "cell_type": "code",
   "execution_count": 6,
   "metadata": {},
   "outputs": [
    {
     "data": {
      "text/plain": [
       "(14051, 16)"
      ]
     },
     "execution_count": 6,
     "metadata": {},
     "output_type": "execute_result"
    }
   ],
   "source": [
    "df.shape"
   ]
  },
  {
   "attachments": {},
   "cell_type": "markdown",
   "metadata": {},
   "source": [
    "Excluding too short `clinical_impression` data:"
   ]
  },
  {
   "cell_type": "code",
   "execution_count": 9,
   "metadata": {},
   "outputs": [],
   "source": [
    "min_words = 6  # numero minimo de palavras no campo \"clinical_impression\""
   ]
  },
  {
   "cell_type": "code",
   "execution_count": 10,
   "metadata": {},
   "outputs": [],
   "source": [
    "idx = df['clinical_impression'].apply(lambda x: len(x.split()) > min_words)"
   ]
  },
  {
   "cell_type": "code",
   "execution_count": 11,
   "metadata": {},
   "outputs": [],
   "source": [
    "df = df[idx].reset_index(drop=True)"
   ]
  },
  {
   "cell_type": "code",
   "execution_count": 12,
   "metadata": {},
   "outputs": [],
   "source": [
    "df.reset_index(inplace=True)"
   ]
  },
  {
   "cell_type": "code",
   "execution_count": 13,
   "metadata": {},
   "outputs": [
    {
     "data": {
      "text/plain": [
       "(10174, 17)"
      ]
     },
     "execution_count": 13,
     "metadata": {},
     "output_type": "execute_result"
    }
   ],
   "source": [
    "# tamanho do conjunto de dados depois\n",
    "df.shape  # (10174, 16)"
   ]
  },
  {
   "attachments": {},
   "cell_type": "markdown",
   "metadata": {},
   "source": [
    "Examples and counterexamples:"
   ]
  },
  {
   "cell_type": "code",
   "execution_count": 11,
   "metadata": {},
   "outputs": [],
   "source": [
    "df_examples = df.query('CID_description.str.lower().str.contains(\"dengue\")', engine='python')"
   ]
  },
  {
   "cell_type": "code",
   "execution_count": 12,
   "metadata": {},
   "outputs": [],
   "source": [
    "# TODO: refazer um código \"oficial\" para os counterexamples\n",
    "\n",
    "df_counterexamples = df.query('~CID_description.str.lower().str.contains(\"dengue\")', engine='python') #.loc[205].clinical_impression"
   ]
  },
  {
   "cell_type": "code",
   "execution_count": 13,
   "metadata": {},
   "outputs": [
    {
     "data": {
      "text/plain": [
       "((318, 17), (9856, 17))"
      ]
     },
     "execution_count": 13,
     "metadata": {},
     "output_type": "execute_result"
    }
   ],
   "source": [
    "df_examples.shape, df_counterexamples.shape"
   ]
  },
  {
   "cell_type": "code",
   "execution_count": 14,
   "metadata": {},
   "outputs": [],
   "source": [
    "# only run it only if necessary\n",
    "\n",
    "# df_examples[['CID', 'clinical_impression']].to_excel('df_examples_20230503.xlsx')"
   ]
  },
  {
   "cell_type": "code",
   "execution_count": 15,
   "metadata": {},
   "outputs": [],
   "source": [
    "# only run it only if necessary\n",
    "\n",
    "# df_counterexamples[['CID', 'clinical_impression']].to_excel('df_counterexamples_20230503.xlsx')"
   ]
  },
  {
   "attachments": {},
   "cell_type": "markdown",
   "metadata": {},
   "source": [
    "Additional (associated) red flag data (for the `examples` dataset):"
   ]
  },
  {
   "attachments": {},
   "cell_type": "markdown",
   "metadata": {},
   "source": [
    "*a) inspection*"
   ]
  },
  {
   "cell_type": "code",
   "execution_count": 16,
   "metadata": {},
   "outputs": [
    {
     "data": {
      "text/plain": [
       "['com sinais de alarme. = suspeita de dengue ?? / chicungunha ?? ',\n",
       " 'com sinais de alarme - suspeita de dengue.',\n",
       " 'com sinais de alarme - prostração (já excluído diagnóstico de covid por meio de pcr negativo?)',\n",
       " 'com sinais de alarme: suspeita de dengue com febre persistente há > 10 dias e alteração no hepatograma',\n",
       " 'com sinais de alarme - investigação diagnóstica  para diferencial dengue x covid',\n",
       " 'com sinais de alarme - investigação de suspeita de dengue',\n",
       " 'com sinais de alarme - piora laboratorial + manutenção dos sintomas',\n",
       " 'com sinais de alarme - suspeita de dengue e necessidade de investigação diagnóstica.',\n",
       " 'com sinais de alarme - dengue com sintomas que limitam a avaliação por telemedicina ',\n",
       " 'com sinais de alarme (hipotensão postural) -> dengue grupo c',\n",
       " 'suspeita de dengue com sinais de alarme (hipotensão postural e petéquias)',\n",
       " 'com sinais de alarme = plaquetopenia (69.000) + portadora de comorbidades (dm)',\n",
       " 'com sinais de alarme: d6, com prostração e sonolência excessiva e dor abdominal. necessita atendimento presencial  em caráter de emergência',\n",
       " 'com sinais de alarme (necessidade de realização de laboratoriais para definição de tratamento).',\n",
       " 'dengue com sinal de alarme: hipotensão ortostática // cefaleia com sinais de alarme: paciente em uso de anticoagulante e histórico de tromboembolismo',\n",
       " 'com sinais de alarme - necessita de avaliacao presencial',\n",
       " 'com sinais de alarme - dengue x chikungunya',\n",
       " 'com sinais de alarme - diferencial de ivas/covid x dengue; cefaleia intensa refrataria a analgesia oral ',\n",
       " 'com sinais de alarme (vômitos) e necessidade de avaliação presencial e coleta de hemograma.',\n",
       " 'com sinais de alarme - necessita de avaliação presencial',\n",
       " 'com sinais de alarme - manifestação hemorrágica através de manchas de pele + dor abdominal',\n",
       " 'com sinais de alarme - manchas de pele + dor abdominal + prostração excessiva',\n",
       " 'com sinais de alarme. necessidade de avaliação presencial por febre persistente( 3 dias) ',\n",
       " 'com sinais de alarme - necessita de atendimento presencial',\n",
       " 'quadro sugestivo de dengue com sinais de alarme--> cansaço intenso, dispneia, dificuldade para completar frases longas em teleconsulta-->encaminho para avaliação presencial imediata',\n",
       " 'com sinais de alarme = naúseas e vômitos',\n",
       " 'com sinais de alarme: suspeita de dengue',\n",
       " 'com sinais de alarme: diagnóstico de dengue sem sinais de alarmes, mas condição clínica requer a realização de prova do laço e reavaliação presencial na fase crítica da doença (entre o 3º e o 6º dia de evolução)',\n",
       " 'com sinais de alarme - manchas + febre persistente',\n",
       " 'paciente em d10 de dengue, evoluindo afebril, porém com dispneia e dor torácica. devido possibilidade de dengue grupo c (com sinais de alarme), bem como diferencial para outros quadros respiratórios com complicações (ex: covid), oriento necessidade de ate',\n",
       " 'com sinais de alarme (presença de petéquias)',\n",
       " 'com sinais de alarme - dor abdominal, sonolência excessiva, febre mantida, desidratação',\n",
       " 'com sinais de alarme: dengue d5 em deiscencia de febre, evolui com piora de astenia e sangramento uterino anormal --> plaquetopenia/hemoconcentração? ',\n",
       " 'com sinais de alarme - surgimento de petéquias',\n",
       " 'paciente com diagnóstico de dengue apresentando do abdominal há 01 dia e nova piora dos sintomas. (dengue com sinais de alarme) ',\n",
       " 'com sinais de alarme - petéquias em mmii',\n",
       " 'com sinais de alarme - paciente com suspeita de dengue evoluindo com dores articulares, edema e lesões avermelhadas no corpo (petéquias?).',\n",
       " 'com sinais de alarme: desidratação e dor abdominal. investigação de arboviroses sugerida',\n",
       " 'com sinais de alarme: febre alta, diarreia com produtos patológicos associado a dor abdominal e dispneia.',\n",
       " 'com sinais de alarme: capacidade de hidratação vo reduzida associada a diarréia liquida + 1ep de epistaxe',\n",
       " 'com sinais de alarme: paciente hoje no quarto dia de evolução de um provável quadro de dengue recrudescendo febre no entanto apresentando ainda queda do estado geral e muita dor retro-orbitária. necessita avaliação presencial de urgência para melhor deter',\n",
       " 'com sinais de alarme - prostração excessiva + surgimento de manchas pelo corpo + desidratação',\n",
       " 'com sinais de alarme - prostração excessiva + nauseas e vomitos',\n",
       " 'com sinais de alarme: sintomas importantes necessitando de avaliação presencial (artralgia, cefaleia, febre, petéquias)',\n",
       " 'com sinais de alarme. sangramento nasal espontâneo - necessidade de avaliação de nova plaquetometria. ',\n",
       " 'paciente com mialgia, febre, diarreia, náuseas dor abdominal e hematomas. dengue com sinais de alarme? geca?',\n",
       " 'com sinais de alarme -> suspeita de dengue e com sintomas de pa baixa (tontura).',\n",
       " 'com sinais de alarme: febre e sintomas persistentes com necessidade de avaliação presencial.',\n",
       " 'com sinais de alarme - vomitos e piora de estado geral',\n",
       " 'com sinais de alarme: plaqueta de 97mil, necessita avaliação presencial.',\n",
       " 'com sinais de alarme. cefaleia persistente refrataria aos analgesicos',\n",
       " 'com sinais de alarme: dengue com cefaleia refratária e persistente']"
      ]
     },
     "execution_count": 16,
     "metadata": {},
     "output_type": "execute_result"
    }
   ],
   "source": [
    "text_flag = \"com sinais de alarme\"\n",
    "\n",
    "[x for x in  df_examples.clinical_impression.str.lower().values if text_flag in x]"
   ]
  },
  {
   "attachments": {},
   "cell_type": "markdown",
   "metadata": {},
   "source": [
    "*b) loading:*"
   ]
  },
  {
   "cell_type": "code",
   "execution_count": 19,
   "metadata": {},
   "outputs": [],
   "source": [
    "# perdi esses dados\n",
    "\n",
    "# df_associated = pd.read_csv('./data/associated_redflag_data.csv') "
   ]
  },
  {
   "attachments": {},
   "cell_type": "markdown",
   "metadata": {},
   "source": [
    "Making it available for algorithm calibration:"
   ]
  },
  {
   "cell_type": "code",
   "execution_count": 18,
   "metadata": {},
   "outputs": [],
   "source": [
    "# perdi esses dados\n",
    "\n",
    "# statframe.add_data(\n",
    "#     contents = df_associated.terms.str.lower().to_list(),\n",
    "#     protocol = 'DENGUE'\n",
    "# )"
   ]
  },
  {
   "attachments": {},
   "cell_type": "markdown",
   "metadata": {},
   "source": [
    "*c) removing data to be used in algorithm calibration:*"
   ]
  },
  {
   "cell_type": "code",
   "execution_count": 29,
   "metadata": {},
   "outputs": [],
   "source": [
    "df_examples = df_examples\\\n",
    "    .query(f'~clinical_impression.str.lower().str.contains(\"{text_flag}\")', engine='python')"
   ]
  },
  {
   "attachments": {},
   "cell_type": "markdown",
   "metadata": {},
   "source": [
    "Experiment dataset:"
   ]
  },
  {
   "cell_type": "code",
   "execution_count": 30,
   "metadata": {},
   "outputs": [
    {
     "name": "stderr",
     "output_type": "stream",
     "text": [
      "/var/folders/bq/7mkkfrfd3fjd2wrwp70xz_l9fwyk_9/T/ipykernel_6350/2416661101.py:1: FutureWarning: The frame.append method is deprecated and will be removed from pandas in a future version. Use pandas.concat instead.\n",
      "  df_experiment = df_examples[['CID', 'clinical_impression']].append(\n"
     ]
    }
   ],
   "source": [
    "df_experiment = df_examples[['CID', 'clinical_impression']].append(\n",
    "    df_counterexamples[['CID', 'clinical_impression']]\n",
    ").reset_index(drop=True)"
   ]
  },
  {
   "cell_type": "code",
   "execution_count": 31,
   "metadata": {},
   "outputs": [
    {
     "data": {
      "text/html": [
       "<div>\n",
       "<style scoped>\n",
       "    .dataframe tbody tr th:only-of-type {\n",
       "        vertical-align: middle;\n",
       "    }\n",
       "\n",
       "    .dataframe tbody tr th {\n",
       "        vertical-align: top;\n",
       "    }\n",
       "\n",
       "    .dataframe thead th {\n",
       "        text-align: right;\n",
       "    }\n",
       "</style>\n",
       "<table border=\"1\" class=\"dataframe\">\n",
       "  <thead>\n",
       "    <tr style=\"text-align: right;\">\n",
       "      <th></th>\n",
       "      <th>CID</th>\n",
       "      <th>clinical_impression</th>\n",
       "    </tr>\n",
       "  </thead>\n",
       "  <tbody>\n",
       "    <tr>\n",
       "      <th>0</th>\n",
       "      <td>A90</td>\n",
       "      <td>Paciente com quadro importante de dor no corpo...</td>\n",
       "    </tr>\n",
       "    <tr>\n",
       "      <th>1</th>\n",
       "      <td>A90</td>\n",
       "      <td>Paciente com quadro suspeito de dengue. Necess...</td>\n",
       "    </tr>\n",
       "    <tr>\n",
       "      <th>2</th>\n",
       "      <td>A90</td>\n",
       "      <td>Quadro clinico sugestivo de arbovirose (Dengue...</td>\n",
       "    </tr>\n",
       "    <tr>\n",
       "      <th>3</th>\n",
       "      <td>A90</td>\n",
       "      <td>Dengue? Chikungunya? Paciente refere quadro de...</td>\n",
       "    </tr>\n",
       "    <tr>\n",
       "      <th>4</th>\n",
       "      <td>A90</td>\n",
       "      <td>Quadro clínico sugestivo de arbovirose: Dengue...</td>\n",
       "    </tr>\n",
       "    <tr>\n",
       "      <th>...</th>\n",
       "      <td>...</td>\n",
       "      <td>...</td>\n",
       "    </tr>\n",
       "    <tr>\n",
       "      <th>10117</th>\n",
       "      <td>R51</td>\n",
       "      <td>Paciente com crise de enxaqueca sem melhora co...</td>\n",
       "    </tr>\n",
       "    <tr>\n",
       "      <th>10118</th>\n",
       "      <td>N30</td>\n",
       "      <td>sinal de alerta: indicação de exame complementar</td>\n",
       "    </tr>\n",
       "    <tr>\n",
       "      <th>10119</th>\n",
       "      <td>H00</td>\n",
       "      <td>Hórdeolo sem melhora com compressa. Necessidad...</td>\n",
       "    </tr>\n",
       "    <tr>\n",
       "      <th>10120</th>\n",
       "      <td>J06</td>\n",
       "      <td>Necessita de avaliação presencial para exame f...</td>\n",
       "    </tr>\n",
       "    <tr>\n",
       "      <th>10121</th>\n",
       "      <td>B34.2</td>\n",
       "      <td>Com sinais de alarme - dor torácica + dispneia</td>\n",
       "    </tr>\n",
       "  </tbody>\n",
       "</table>\n",
       "<p>10122 rows × 2 columns</p>\n",
       "</div>"
      ],
      "text/plain": [
       "         CID                                clinical_impression\n",
       "0        A90  Paciente com quadro importante de dor no corpo...\n",
       "1        A90  Paciente com quadro suspeito de dengue. Necess...\n",
       "2        A90  Quadro clinico sugestivo de arbovirose (Dengue...\n",
       "3        A90  Dengue? Chikungunya? Paciente refere quadro de...\n",
       "4        A90  Quadro clínico sugestivo de arbovirose: Dengue...\n",
       "...      ...                                                ...\n",
       "10117    R51  Paciente com crise de enxaqueca sem melhora co...\n",
       "10118    N30   sinal de alerta: indicação de exame complementar\n",
       "10119    H00  Hórdeolo sem melhora com compressa. Necessidad...\n",
       "10120    J06  Necessita de avaliação presencial para exame f...\n",
       "10121  B34.2     Com sinais de alarme - dor torácica + dispneia\n",
       "\n",
       "[10122 rows x 2 columns]"
      ]
     },
     "execution_count": 31,
     "metadata": {},
     "output_type": "execute_result"
    }
   ],
   "source": [
    "df_experiment"
   ]
  },
  {
   "attachments": {},
   "cell_type": "markdown",
   "metadata": {},
   "source": [
    "**Experiment**"
   ]
  },
  {
   "cell_type": "code",
   "execution_count": 32,
   "metadata": {},
   "outputs": [],
   "source": [
    "algorithms_time = list()"
   ]
  },
  {
   "attachments": {},
   "cell_type": "markdown",
   "metadata": {},
   "source": [
    "*a) `simple_scorer` algorithm:*"
   ]
  },
  {
   "cell_type": "code",
   "execution_count": 33,
   "metadata": {},
   "outputs": [],
   "source": [
    "start_time = time.time()\n",
    "\n",
    "df_experiment['simple_scorer'] = df_experiment\\\n",
    "    .apply(\n",
    "        lambda x: statframe.get_adherence(\n",
    "            x = x['clinical_impression'],\n",
    "            cid = x['CID'],\n",
    "            method = 0\n",
    "        ),\n",
    "    axis=1\n",
    ")\n",
    "\n",
    "end_time = time.time()"
   ]
  },
  {
   "cell_type": "code",
   "execution_count": 34,
   "metadata": {},
   "outputs": [],
   "source": [
    "simplescorer_time = end_time - start_time"
   ]
  },
  {
   "cell_type": "code",
   "execution_count": 35,
   "metadata": {},
   "outputs": [],
   "source": [
    "algorithms_time.append(('simple_scorer', simplescorer_time))"
   ]
  },
  {
   "attachments": {},
   "cell_type": "markdown",
   "metadata": {},
   "source": [
    "*b) `levenshtein_scorer` algorithm:*"
   ]
  },
  {
   "cell_type": "code",
   "execution_count": 36,
   "metadata": {},
   "outputs": [],
   "source": [
    "start_time = time.time()\n",
    "\n",
    "df_experiment['levenshtein_scorer'] = df_experiment\\\n",
    "    .apply(\n",
    "        lambda x: statframe.get_adherence(\n",
    "            x = x['clinical_impression'],\n",
    "            cid = x['CID'],\n",
    "            method = 1\n",
    "        ),\n",
    "    axis=1\n",
    ")\n",
    "\n",
    "end_time = time.time()"
   ]
  },
  {
   "cell_type": "code",
   "execution_count": 37,
   "metadata": {},
   "outputs": [],
   "source": [
    "levenshteinscorer_time = end_time - start_time"
   ]
  },
  {
   "cell_type": "code",
   "execution_count": 38,
   "metadata": {},
   "outputs": [],
   "source": [
    "algorithms_time.append(('levenshtein_scorer', levenshteinscorer_time))"
   ]
  },
  {
   "attachments": {},
   "cell_type": "markdown",
   "metadata": {},
   "source": [
    "*c) `jaccard_scorer` algorithm:*"
   ]
  },
  {
   "cell_type": "code",
   "execution_count": 39,
   "metadata": {},
   "outputs": [],
   "source": [
    "start_time = time.time()\n",
    "\n",
    "df_experiment['jaccard_scorer'] = df_experiment\\\n",
    "    .apply(\n",
    "        lambda x: statframe.get_adherence(\n",
    "            x = x['clinical_impression'],\n",
    "            cid = x['CID'],\n",
    "            method = 2\n",
    "        ),\n",
    "    axis=1\n",
    ")\n",
    "\n",
    "end_time = time.time()"
   ]
  },
  {
   "cell_type": "code",
   "execution_count": 40,
   "metadata": {},
   "outputs": [],
   "source": [
    "jaccardscorer_time = end_time - start_time"
   ]
  },
  {
   "cell_type": "code",
   "execution_count": 41,
   "metadata": {},
   "outputs": [],
   "source": [
    "algorithms_time.append(('jaccard_scorer', jaccardscorer_time))"
   ]
  },
  {
   "attachments": {},
   "cell_type": "markdown",
   "metadata": {},
   "source": [
    "*d) `bow_scorer` algorithm:*"
   ]
  },
  {
   "cell_type": "code",
   "execution_count": 42,
   "metadata": {},
   "outputs": [],
   "source": [
    "start_time = time.time()\n",
    "\n",
    "df_experiment['bow_scorer'] = df_experiment\\\n",
    "    .apply(\n",
    "        lambda x: statframe.get_adherence(\n",
    "            x = x['clinical_impression'],\n",
    "            cid = x['CID'],\n",
    "            method = 3\n",
    "        ),\n",
    "    axis=1\n",
    ")\n",
    "\n",
    "end_time = time.time()"
   ]
  },
  {
   "cell_type": "code",
   "execution_count": 43,
   "metadata": {},
   "outputs": [],
   "source": [
    "bowscorer_time = end_time - start_time"
   ]
  },
  {
   "cell_type": "code",
   "execution_count": 44,
   "metadata": {},
   "outputs": [],
   "source": [
    "algorithms_time.append(('bow_scorer', bowscorer_time))"
   ]
  },
  {
   "cell_type": "markdown",
   "metadata": {},
   "source": [
    "*e) `bow_scorer` algorithm:*"
   ]
  },
  {
   "cell_type": "code",
   "execution_count": 45,
   "metadata": {},
   "outputs": [],
   "source": [
    "# TODO"
   ]
  },
  {
   "attachments": {},
   "cell_type": "markdown",
   "metadata": {},
   "source": [
    "*f) `sentence_transformer_scorer` algorithm:*"
   ]
  },
  {
   "cell_type": "code",
   "execution_count": 46,
   "metadata": {},
   "outputs": [],
   "source": [
    "# TODO"
   ]
  },
  {
   "attachments": {},
   "cell_type": "markdown",
   "metadata": {},
   "source": [
    "**Persistence of experiment results**"
   ]
  },
  {
   "cell_type": "code",
   "execution_count": 47,
   "metadata": {},
   "outputs": [],
   "source": [
    "df_experiment.to_csv('./results/df_experiment_with_results_20231024.csv')"
   ]
  },
  {
   "cell_type": "code",
   "execution_count": 48,
   "metadata": {},
   "outputs": [],
   "source": [
    "import pickle\n",
    "\n",
    "with open('./results/algorithms_time_20231024.pkl', 'wb') as handler:\n",
    "\n",
    "    pickle.dump(algorithms_time, handler)"
   ]
  }
 ],
 "metadata": {
  "kernelspec": {
   "display_name": "Python 3.8.8 ('base')",
   "language": "python",
   "name": "python3"
  },
  "language_info": {
   "codemirror_mode": {
    "name": "ipython",
    "version": 3
   },
   "file_extension": ".py",
   "mimetype": "text/x-python",
   "name": "python",
   "nbconvert_exporter": "python",
   "pygments_lexer": "ipython3",
   "version": "3.11.4"
  },
  "orig_nbformat": 4,
  "vscode": {
   "interpreter": {
    "hash": "784089df04266569594833d9a84410055a1547ea52c29f1a8c2270218b4d29e3"
   }
  }
 },
 "nbformat": 4,
 "nbformat_minor": 2
}
